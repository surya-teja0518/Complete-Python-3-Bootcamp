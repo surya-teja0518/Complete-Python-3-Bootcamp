{
  "nbformat": 4,
  "nbformat_minor": 0,
  "metadata": {
    "kernelspec": {
      "display_name": "Python 3",
      "language": "python",
      "name": "python3"
    },
    "language_info": {
      "codemirror_mode": {
        "name": "ipython",
        "version": 3
      },
      "file_extension": ".py",
      "mimetype": "text/x-python",
      "name": "python",
      "nbconvert_exporter": "python",
      "pygments_lexer": "ipython3",
      "version": "3.7.3"
    },
    "colab": {
      "name": "Copy of Random_forest03-checkpoint.ipynb",
      "provenance": [],
      "include_colab_link": true
    }
  },
  "cells": [
    {
      "cell_type": "markdown",
      "metadata": {
        "id": "view-in-github",
        "colab_type": "text"
      },
      "source": [
        "<a href=\"https://colab.research.google.com/github/surya-teja0518/Complete-Python-3-Bootcamp/blob/master/Copy_of_Random_forest03_checkpoint.ipynb\" target=\"_parent\"><img src=\"https://colab.research.google.com/assets/colab-badge.svg\" alt=\"Open In Colab\"/></a>"
      ]
    },
    {
      "cell_type": "markdown",
      "metadata": {
        "id": "h6nEjqcv7-UN",
        "colab_type": "text"
      },
      "source": [
        "# Random Forest \n"
      ]
    },
    {
      "cell_type": "markdown",
      "metadata": {
        "id": "jeWTrHlC7-UO",
        "colab_type": "text"
      },
      "source": [
        "Random forest is a type of supervised machine learning algorithm based on ensemble learning. \n",
        "Ensemble learning is a type of learning where you join different types of algorithms or same algorithm multiple times to form a more powerful prediction model. \n"
      ]
    },
    {
      "cell_type": "markdown",
      "metadata": {
        "id": "VYPB2VKr7-UP",
        "colab_type": "text"
      },
      "source": [
        "The random forest algorithm combines multiple algorithm of the same type i.e. multiple decision trees, resulting in a forest of trees, hence the name \"Random Forest\". The random forest algorithm can be used for both regression and classification tasks."
      ]
    },
    {
      "cell_type": "markdown",
      "metadata": {
        "id": "H8d_kwSc7-UQ",
        "colab_type": "text"
      },
      "source": [
        "### How the Random Forest Algorithm Works"
      ]
    },
    {
      "cell_type": "markdown",
      "metadata": {
        "id": "TMOdQEM17-UR",
        "colab_type": "text"
      },
      "source": [
        "\n",
        "The following are the basic steps involved in performing the random forest algorithm:\n",
        "\n",
        "    1) Pick N random records from the dataset.\n",
        "\n",
        "    2) Build a decision tree based on these N records.\n",
        "\n",
        "    3) Choose the number of trees you want in your algorithm and repeat steps 1 and 2.\n",
        "\n",
        "In case of a regression problem, for a new record, each tree in the forest predicts a value for Y (output). \n",
        "The final value can be calculated by taking the average of all the values predicted by all the trees in forest. \n",
        "\n",
        "Or, in case of a classification problem, each tree in the forest predicts the category to which the new record belongs. Finally, the new record is assigned to the category that wins the majority vote."
      ]
    },
    {
      "cell_type": "markdown",
      "metadata": {
        "id": "shFB7kfb7-UR",
        "colab_type": "text"
      },
      "source": [
        "## Advantages of using Random Forest\n",
        "As with any algorithm, there are advantages and disadvantages to using it. In the next two sections we'll take a look at the pros and cons of using random forest for classification and regression."
      ]
    },
    {
      "cell_type": "markdown",
      "metadata": {
        "id": "lA4588GA7-US",
        "colab_type": "text"
      },
      "source": [
        "\n",
        "\n",
        "1) The random forest algorithm is not biased, since, there are multiple trees and each tree is trained on a subset of data. \n",
        "    \n",
        "    Basically, the random forest algorithm relies on the power of \"the crowd\"; therefore the overall biasedness of the             algorithm is reduced.\n",
        "\n",
        "2) This algorithm is very stable. Even if a new data point is introduced in the dataset the overall algorithm is not affected much since new data may impact one tree, but it is very hard for it to impact all the trees.\n",
        "\n",
        "3) The random forest algorithm works well when you have both categorical and numerical features.\n",
        "\n",
        "4) The random forest algorithm also works well when data has missing values or it has not been scaled well"
      ]
    },
    {
      "cell_type": "markdown",
      "metadata": {
        "id": "yNmhToAh7-UT",
        "colab_type": "text"
      },
      "source": [
        "## Disadvantages of using Random Forest"
      ]
    },
    {
      "cell_type": "markdown",
      "metadata": {
        "id": "BLtAhJ-B7-UU",
        "colab_type": "text"
      },
      "source": [
        "\n",
        "1) A major disadvantage of random forests lies in their complexity. They required much more computational resources, owing to the large number of decision trees joined together.\n",
        "\n",
        "2) Due to their complexity, they require much more time to train than other comparable algorithms"
      ]
    },
    {
      "cell_type": "markdown",
      "metadata": {
        "id": "PcqLcuCG7-UU",
        "colab_type": "text"
      },
      "source": [
        "#### Problem Definition\n",
        "The problem here is to predict the gas consumption (in millions of gallons) in 48 of the US states based on petrol tax (in cents), per capita income (dollars), paved highways (in miles) and the proportion of population with the driving license.\n",
        "\n",
        "#### Solution\n",
        "To solve this regression problem we will use the random forest algorithm via the Scikit-Learn Python library. We will follow the traditional machine learning pipeline to solve this problem."
      ]
    },
    {
      "cell_type": "code",
      "metadata": {
        "id": "6M1fxzaQ7-UV",
        "colab_type": "code",
        "colab": {}
      },
      "source": [
        "import pandas as pd\n",
        "import numpy as np"
      ],
      "execution_count": 0,
      "outputs": []
    },
    {
      "cell_type": "code",
      "metadata": {
        "id": "tG_-rAAS7-UX",
        "colab_type": "code",
        "colab": {}
      },
      "source": [
        "# import the dataset:\n",
        "dataset = pd.read_csv('https://raw.githubusercontent.com/MukundVarmaT/PythonMLworkshop/master/ML/petrol_consumption.csv')"
      ],
      "execution_count": 0,
      "outputs": []
    },
    {
      "cell_type": "code",
      "metadata": {
        "id": "fcYYlbV57-UZ",
        "colab_type": "code",
        "outputId": "c1200077-eecf-461c-eedc-2dd760b8b063",
        "colab": {}
      },
      "source": [
        "# To get a high-level view of what the dataset looks like, execute the following command:\n",
        "dataset.head()"
      ],
      "execution_count": 0,
      "outputs": [
        {
          "output_type": "execute_result",
          "data": {
            "text/html": [
              "<div>\n",
              "<style scoped>\n",
              "    .dataframe tbody tr th:only-of-type {\n",
              "        vertical-align: middle;\n",
              "    }\n",
              "\n",
              "    .dataframe tbody tr th {\n",
              "        vertical-align: top;\n",
              "    }\n",
              "\n",
              "    .dataframe thead th {\n",
              "        text-align: right;\n",
              "    }\n",
              "</style>\n",
              "<table border=\"1\" class=\"dataframe\">\n",
              "  <thead>\n",
              "    <tr style=\"text-align: right;\">\n",
              "      <th></th>\n",
              "      <th>Petrol_tax</th>\n",
              "      <th>Average_income</th>\n",
              "      <th>Paved_Highways</th>\n",
              "      <th>Population_Driver_licence(%)</th>\n",
              "      <th>Petrol_Consumption</th>\n",
              "    </tr>\n",
              "  </thead>\n",
              "  <tbody>\n",
              "    <tr>\n",
              "      <th>0</th>\n",
              "      <td>9.0</td>\n",
              "      <td>3571</td>\n",
              "      <td>1976</td>\n",
              "      <td>0.525</td>\n",
              "      <td>541</td>\n",
              "    </tr>\n",
              "    <tr>\n",
              "      <th>1</th>\n",
              "      <td>9.0</td>\n",
              "      <td>4092</td>\n",
              "      <td>1250</td>\n",
              "      <td>0.572</td>\n",
              "      <td>524</td>\n",
              "    </tr>\n",
              "    <tr>\n",
              "      <th>2</th>\n",
              "      <td>9.0</td>\n",
              "      <td>3865</td>\n",
              "      <td>1586</td>\n",
              "      <td>0.580</td>\n",
              "      <td>561</td>\n",
              "    </tr>\n",
              "    <tr>\n",
              "      <th>3</th>\n",
              "      <td>7.5</td>\n",
              "      <td>4870</td>\n",
              "      <td>2351</td>\n",
              "      <td>0.529</td>\n",
              "      <td>414</td>\n",
              "    </tr>\n",
              "    <tr>\n",
              "      <th>4</th>\n",
              "      <td>8.0</td>\n",
              "      <td>4399</td>\n",
              "      <td>431</td>\n",
              "      <td>0.544</td>\n",
              "      <td>410</td>\n",
              "    </tr>\n",
              "  </tbody>\n",
              "</table>\n",
              "</div>"
            ],
            "text/plain": [
              "   Petrol_tax  Average_income  Paved_Highways  Population_Driver_licence(%)  \\\n",
              "0         9.0            3571            1976                         0.525   \n",
              "1         9.0            4092            1250                         0.572   \n",
              "2         9.0            3865            1586                         0.580   \n",
              "3         7.5            4870            2351                         0.529   \n",
              "4         8.0            4399             431                         0.544   \n",
              "\n",
              "   Petrol_Consumption  \n",
              "0                 541  \n",
              "1                 524  \n",
              "2                 561  \n",
              "3                 414  \n",
              "4                 410  "
            ]
          },
          "metadata": {
            "tags": []
          },
          "execution_count": 3
        }
      ]
    },
    {
      "cell_type": "markdown",
      "metadata": {
        "id": "Xg5_jGJj7-Uc",
        "colab_type": "text"
      },
      "source": [
        "We can see that the values in our dataset are not very well scaled. We will scale them down before training the algorithm."
      ]
    },
    {
      "cell_type": "markdown",
      "metadata": {
        "id": "KfSW6U2a7-Ud",
        "colab_type": "text"
      },
      "source": [
        "### Preparing Data For Training\n",
        "Two tasks will be performed in this section. The first task is to divide data into 'attributes' and 'label' sets. The resultant data is then divided into training and test sets.\n",
        "\n",
        "The following script divides data into attributes and labels:"
      ]
    },
    {
      "cell_type": "code",
      "metadata": {
        "id": "_rsfHpa77-Ue",
        "colab_type": "code",
        "colab": {}
      },
      "source": [
        "X = dataset.iloc[:, 0:4].values\n",
        "y = dataset.iloc[:, 4].values"
      ],
      "execution_count": 0,
      "outputs": []
    },
    {
      "cell_type": "code",
      "metadata": {
        "id": "JfyIo6cQ7-Ug",
        "colab_type": "code",
        "colab": {}
      },
      "source": [
        "from sklearn.model_selection import train_test_split\n",
        "\n",
        "X_train, X_test, y_train, y_test = train_test_split(X, y, test_size=0.2, random_state=0)"
      ],
      "execution_count": 0,
      "outputs": []
    },
    {
      "cell_type": "markdown",
      "metadata": {
        "id": "UDHTERZg7-Ui",
        "colab_type": "text"
      },
      "source": [
        "### Feature Scaling\n",
        "We know our dataset is not yet a scaled value, for instance the Average_Income field has values in the range of thousands while Petrol_tax has values in range of tens. \n",
        "\n",
        "Therefore, it would be beneficial to scale our data (although, as mentioned earlier, this step isn't as important for the random forests algorithm).\n",
        "\n",
        "To do so, we will use Scikit-Learn's StandardScaler class. Execute the following code to do so:"
      ]
    },
    {
      "cell_type": "code",
      "metadata": {
        "id": "J76J5jEw7-Ui",
        "colab_type": "code",
        "colab": {}
      },
      "source": [
        "# Feature Scaling\n",
        "from sklearn.preprocessing import StandardScaler\n",
        "\n",
        "sc = StandardScaler()\n",
        "X_train = sc.fit_transform(X_train)\n",
        "X_test = sc.transform(X_test)"
      ],
      "execution_count": 0,
      "outputs": []
    },
    {
      "cell_type": "markdown",
      "metadata": {
        "id": "k6duqF6G7-Ul",
        "colab_type": "text"
      },
      "source": [
        "Now that we have scaled our dataset, it is time to train our random forest algorithm to solve this regression problem. Execute the following code:\n"
      ]
    },
    {
      "cell_type": "code",
      "metadata": {
        "id": "J4pL51nT7-Ul",
        "colab_type": "code",
        "outputId": "86d6470d-2299-4329-c69b-e8a1f72dfbcb",
        "colab": {}
      },
      "source": [
        "\n",
        "from sklearn.ensemble import RandomForestRegressor\n",
        "\n",
        "regressor = RandomForestRegressor(n_estimators=10, random_state=0)\n",
        "regressor.fit(X_train, y_train)\n",
        "y_pred = regressor.predict(X_test)\n",
        "# print(y_pred,y_test)\n",
        "data = np.concatenate((y_pred,y_test))\n",
        "array2D = data.reshape((10,2))\n",
        "df = pd.DataFrame(array2D, columns = ['True Value', 'Model Predicted'])\n",
        "print(df)\n"
      ],
      "execution_count": 0,
      "outputs": [
        {
          "output_type": "stream",
          "text": [
            "   True Value  Model Predicted\n",
            "0       573.3            537.7\n",
            "1       595.7            587.1\n",
            "2       623.9            601.1\n",
            "3       593.8            577.7\n",
            "4       457.2            566.9\n",
            "5       534.0            410.0\n",
            "6       577.0            571.0\n",
            "7       577.0            704.0\n",
            "8       487.0            587.0\n",
            "9       467.0            580.0\n"
          ],
          "name": "stdout"
        }
      ]
    },
    {
      "cell_type": "markdown",
      "metadata": {
        "id": "0v3M1xz27-Uo",
        "colab_type": "text"
      },
      "source": [
        "The RandomForestRegressor class of the sklearn.ensemble library is used to solve regression problems via random forest.\n",
        "The most important parameter of the RandomForestRegressor class is the n_estimators parameter. \n",
        "\n",
        "This parameter defines the number of trees in the random forest. We will start with n_estimator=20 to see how our algorithm performs."
      ]
    },
    {
      "cell_type": "markdown",
      "metadata": {
        "id": "bY__auby7-Uo",
        "colab_type": "text"
      },
      "source": [
        "### Evaluating the Algorithm\n",
        "The last and final step of solving a machine learning problem is to evaluate the performance of the algorithm. For regression problems the metrics used to evaluate an algorithm are mean absolute error, mean squared error, and root mean squared error. Execute the following code to find these values:"
      ]
    },
    {
      "cell_type": "code",
      "metadata": {
        "id": "W1Pr-N9J7-Up",
        "colab_type": "code",
        "outputId": "f28b06b8-80f5-4862-bef4-5d31e2372075",
        "colab": {}
      },
      "source": [
        "from sklearn import metrics\n",
        "\n",
        "print('Mean Absolute Error:', metrics.mean_absolute_error(y_test, y_pred))\n",
        "print('Mean Squared Error:', metrics.mean_squared_error(y_test, y_pred))\n",
        "print('Root Mean Squared Error:', np.sqrt(metrics.mean_squared_error(y_test, y_pred)))"
      ],
      "execution_count": 0,
      "outputs": [
        {
          "output_type": "stream",
          "text": [
            "Mean Absolute Error: 51.76500000000001\n",
            "Mean Squared Error: 4216.166749999999\n",
            "Root Mean Squared Error: 64.93201637097064\n"
          ],
          "name": "stdout"
        }
      ]
    },
    {
      "cell_type": "code",
      "metadata": {
        "id": "e89us7SA7-Ur",
        "colab_type": "code",
        "colab": {}
      },
      "source": [
        ""
      ],
      "execution_count": 0,
      "outputs": []
    }
  ]
}