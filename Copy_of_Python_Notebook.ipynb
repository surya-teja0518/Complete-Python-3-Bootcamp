{
  "nbformat": 4,
  "nbformat_minor": 0,
  "metadata": {
    "kernelspec": {
      "display_name": "Python 3",
      "language": "python",
      "name": "python3"
    },
    "language_info": {
      "codemirror_mode": {
        "name": "ipython",
        "version": 3
      },
      "file_extension": ".py",
      "mimetype": "text/x-python",
      "name": "python",
      "nbconvert_exporter": "python",
      "pygments_lexer": "ipython3",
      "version": "3.7.3"
    },
    "colab": {
      "name": "Copy of Python_Notebook.ipynb",
      "provenance": [],
      "include_colab_link": true
    }
  },
  "cells": [
    {
      "cell_type": "markdown",
      "metadata": {
        "id": "view-in-github",
        "colab_type": "text"
      },
      "source": [
        "<a href=\"https://colab.research.google.com/github/surya-teja0518/Complete-Python-3-Bootcamp/blob/master/Copy_of_Python_Notebook.ipynb\" target=\"_parent\"><img src=\"https://colab.research.google.com/assets/colab-badge.svg\" alt=\"Open In Colab\"/></a>"
      ]
    },
    {
      "cell_type": "markdown",
      "metadata": {
        "id": "Qzi107TjwIKf",
        "colab_type": "text"
      },
      "source": [
        "# Introduction to Python\n"
      ]
    },
    {
      "cell_type": "markdown",
      "metadata": {
        "id": "VmL1AueqwIKl",
        "colab_type": "text"
      },
      "source": [
        "## What is Python?\n",
        "\n",
        "#### Python is an easy to learn, powerful Object Oriented Programming language. It has efficient high-level data structures and a simple but effective approach to object-oriented programming. \n",
        "\n",
        "Python’s elegant syntax and dynamic typing, together with its interpreted nature, make it an ideal language for scripting and rapid application development in many areas on most platforms.\n"
      ]
    },
    {
      "cell_type": "markdown",
      "metadata": {
        "id": "HR-zBLmVwIKo",
        "colab_type": "text"
      },
      "source": [
        "Python is a high-level, dynamically typed multiparadigm programming language. Python code is often said to be almost like pseudocode, since it allows you to express very powerful ideas in very few lines of code while being very readable. As an example, here is an implementation of the classic quicksort algorithm in Python:"
      ]
    },
    {
      "cell_type": "code",
      "metadata": {
        "id": "BqcjnvetwIKq",
        "colab_type": "code",
        "outputId": "56fbe831-83b5-4e5b-8595-a0775eb8745d",
        "colab": {}
      },
      "source": [
        "def quicksort(arr):\n",
        "    if len(arr) <= 1:\n",
        "        return arr\n",
        "    pivot = arr[len(arr) // 2]\n",
        "    left = [x for x in arr if x < pivot]\n",
        "    middle = [x for x in arr if x == pivot]\n",
        "    right = [x for x in arr if x > pivot]\n",
        "    return quicksort(left) + middle + quicksort(right)\n",
        "\n",
        "print(quicksort([3,6,8,10,1,2,1]))"
      ],
      "execution_count": 0,
      "outputs": [
        {
          "output_type": "stream",
          "text": [
            "[1, 1, 2, 3, 6, 8, 10]\n"
          ],
          "name": "stdout"
        }
      ]
    },
    {
      "cell_type": "markdown",
      "metadata": {
        "id": "Tavfa6V7wIK2",
        "colab_type": "text"
      },
      "source": [
        "## Using Python\n",
        "\n",
        "* Running python program(.py) file\n",
        "* Python Prompt Interpreter\n",
        "* ipython\n"
      ]
    },
    {
      "cell_type": "markdown",
      "metadata": {
        "id": "Wjba_gCKwIK4",
        "colab_type": "text"
      },
      "source": [
        "## Why Python?\n",
        "\n",
        "<img src=\"https://github.com/MukundVarmaT/PythonMLworkshop/blob/master/Python/img/Picture1.jpg?raw=1\" alt=\"drawing\" width=\"300\"/>\n",
        "<img src=\"https://github.com/MukundVarmaT/PythonMLworkshop/blob/master/Python/img/Picture2.jpg?raw=1\" alt=\"drawing\" width=\"300\"/>\n",
        "\n",
        "\n"
      ]
    },
    {
      "cell_type": "markdown",
      "metadata": {
        "id": "JnZuiORKwIK6",
        "colab_type": "text"
      },
      "source": [
        "## Comments in Python\n"
      ]
    },
    {
      "cell_type": "code",
      "metadata": {
        "id": "R6lNAIjswIK8",
        "colab_type": "code",
        "outputId": "fb7fddad-d055-4f7d-c785-c9e3416a690f",
        "colab": {}
      },
      "source": [
        "#this is a comment # symbol is used for single line commenting\n",
        " \n",
        "\"\"\"\n",
        " This is how one must do multi line commenting\n",
        "\"\"\"\n"
      ],
      "execution_count": 0,
      "outputs": [
        {
          "output_type": "execute_result",
          "data": {
            "text/plain": [
              "'\\n This is how one must do multi line commenting\\n'"
            ]
          },
          "metadata": {
            "tags": []
          },
          "execution_count": 22
        }
      ]
    },
    {
      "cell_type": "markdown",
      "metadata": {
        "id": "8brYUBeDwILG",
        "colab_type": "text"
      },
      "source": [
        "## Exploring basic datatypes in python\n",
        "\n",
        "As mentioned in the introduction python is a **dynamically typed language** and hence **doesn't** require the user to **define variables** before intialising them.\n",
        "\n",
        "use the ```type()``` command to find the datatype of a particular variable\n",
        "\n",
        "| Type     |      example  |\n",
        "|----------|:-------------:|\n",
        "| Text Type |  str |\n",
        "| Numeric Types |    int, float, complex   |\n",
        "| Sequence Types | list, tuple, range |\n",
        "| Mapping Type | dict |\n",
        "| Set Types   | set, frozenset |\n",
        "| Boolean Type  | bool |\n",
        "| Binary Types   | bytes, bytearray, memoryview*** |\n",
        "\n",
        "\n",
        "\n",
        "\n"
      ]
    },
    {
      "cell_type": "code",
      "metadata": {
        "id": "ocv9d-0kwILI",
        "colab_type": "code",
        "outputId": "7a836f8f-9d55-42e2-d297-8b86ba89d858",
        "colab": {}
      },
      "source": [
        "#checking the datatype of a variable\n",
        "a=\"hello\"\n",
        "print(type(a),'\\n')"
      ],
      "execution_count": 0,
      "outputs": [
        {
          "output_type": "stream",
          "text": [
            "<class 'str'> \n",
            "\n"
          ],
          "name": "stdout"
        }
      ]
    },
    {
      "cell_type": "markdown",
      "metadata": {
        "id": "k1SY6H4vwILO",
        "colab_type": "text"
      },
      "source": [
        "## Numeric datatypes"
      ]
    },
    {
      "cell_type": "code",
      "metadata": {
        "id": "3lW9xJG3wILQ",
        "colab_type": "code",
        "outputId": "83763e29-b702-4ef8-be26-8e09c3962a13",
        "colab": {}
      },
      "source": [
        "\n",
        "x = 1    # int\n",
        "y = 2.8  # float\n",
        "a = -87.7e100 #another way to represent floating variables\n",
        "z = 1j   # complex\n",
        "\n",
        "\"\"\"\n",
        "user can convert between datatypes using the method mentioned above\n",
        "Note: You cannot convert complex numbers into another number type.\n",
        "\"\"\"\n",
        "#setting datatype of a variable\n",
        "\n",
        "c=int(y)\n",
        "print(c)\n",
        "print(type(c))\n",
        "\n",
        "print(z)\n",
        "print(type(z))\n",
        "d=int(z)  # cannot convert complex numbers to another datatype\n"
      ],
      "execution_count": 0,
      "outputs": [
        {
          "output_type": "stream",
          "text": [
            "2\n",
            "<class 'int'>\n",
            "1j\n",
            "<class 'complex'>\n"
          ],
          "name": "stdout"
        },
        {
          "output_type": "error",
          "ename": "TypeError",
          "evalue": "can't convert complex to int",
          "traceback": [
            "\u001b[1;31m---------------------------------------------------------------------------\u001b[0m",
            "\u001b[1;31mTypeError\u001b[0m                                 Traceback (most recent call last)",
            "\u001b[1;32m<ipython-input-15-367488b04cb6>\u001b[0m in \u001b[0;36m<module>\u001b[1;34m\u001b[0m\n\u001b[0;32m     17\u001b[0m \u001b[0mprint\u001b[0m\u001b[1;33m(\u001b[0m\u001b[0mz\u001b[0m\u001b[1;33m)\u001b[0m\u001b[1;33m\u001b[0m\u001b[1;33m\u001b[0m\u001b[0m\n\u001b[0;32m     18\u001b[0m \u001b[0mprint\u001b[0m\u001b[1;33m(\u001b[0m\u001b[0mtype\u001b[0m\u001b[1;33m(\u001b[0m\u001b[0mz\u001b[0m\u001b[1;33m)\u001b[0m\u001b[1;33m)\u001b[0m\u001b[1;33m\u001b[0m\u001b[1;33m\u001b[0m\u001b[0m\n\u001b[1;32m---> 19\u001b[1;33m \u001b[0md\u001b[0m\u001b[1;33m=\u001b[0m\u001b[0mint\u001b[0m\u001b[1;33m(\u001b[0m\u001b[0mz\u001b[0m\u001b[1;33m)\u001b[0m  \u001b[1;31m# cannot convert complex numbers to another datatype\u001b[0m\u001b[1;33m\u001b[0m\u001b[1;33m\u001b[0m\u001b[0m\n\u001b[0m",
            "\u001b[1;31mTypeError\u001b[0m: can't convert complex to int"
          ]
        }
      ]
    },
    {
      "cell_type": "markdown",
      "metadata": {
        "id": "psAzdyo7wILV",
        "colab_type": "text"
      },
      "source": [
        "## string datatypes"
      ]
    },
    {
      "cell_type": "code",
      "metadata": {
        "id": "o9MDPuXfwILX",
        "colab_type": "code",
        "colab": {}
      },
      "source": [
        "\n",
        "\n",
        "a = \"Hello\"\n",
        "print(a)\n",
        "\n",
        "#multiline strings can be created using ''' <insert text here> ''' \n",
        "a = \"\"\"Why does Python live on land?\n",
        "Because it's above C-level\"\"\"\n",
        "print(a)\n",
        "\n",
        "#Note: in the result, the line breaks are inserted at the same position as in the code.\n"
      ],
      "execution_count": 0,
      "outputs": []
    },
    {
      "cell_type": "markdown",
      "metadata": {
        "id": "OB66dj1twILc",
        "colab_type": "text"
      },
      "source": [
        "## Indentation\n",
        "\n",
        "* Whitespaces at the beginning of the line are important.\n",
        "* Statements with same indentations form a block.\n"
      ]
    },
    {
      "cell_type": "code",
      "metadata": {
        "id": "eS3Z-VSMwILe",
        "colab_type": "code",
        "colab": {}
      },
      "source": [
        "I = 5\n",
        "    print(I)         #IndentationError\n",
        "print(“This is string”)\n"
      ],
      "execution_count": 0,
      "outputs": []
    },
    {
      "cell_type": "markdown",
      "metadata": {
        "id": "7VfdS-dEwILj",
        "colab_type": "text"
      },
      "source": [
        "<img src=\"https://github.com/MukundVarmaT/PythonMLworkshop/blob/master/Python/img/Picture6.jpg?raw=1\" alt=\"drawing\" width=300px/>"
      ]
    },
    {
      "cell_type": "markdown",
      "metadata": {
        "id": "pTn0SXx_wILl",
        "colab_type": "text"
      },
      "source": [
        "## Operators"
      ]
    },
    {
      "cell_type": "code",
      "metadata": {
        "id": "K__gohpEwILn",
        "colab_type": "code",
        "colab": {}
      },
      "source": [
        "a = 3\n",
        "b = 2\n",
        "\n",
        "print(a + b)\n",
        "print(a - b)\n",
        "print(a * b)\n",
        "print(a / b)\n",
        "print(a // b)\n",
        "print(a % b)\n",
        "\n",
        "a = 'la'\n",
        "a = a * 3\n",
        "print(\"\\n\",a)\n",
        "\n",
        "\n"
      ],
      "execution_count": 0,
      "outputs": []
    },
    {
      "cell_type": "markdown",
      "metadata": {
        "id": "ik_vV6P0wILs",
        "colab_type": "raw"
      },
      "source": [
        "Other Binary Operations\n",
        "\n",
        "*  < (less than)\n",
        "*  > ( greater than)\n",
        "*  <= (Less than or equal to)\n",
        "*  >= (Greater than or equal to)\n",
        "*  == ( Equal to)\n",
        "*  != (Not Equal to)\n",
        "*  not( Boolean NOT)\n",
        "*  and ( Boolean AND)\n",
        "*  or (Boolean OR)\n",
        "\n",
        "\n",
        "\n",
        "*  << (left shift)\n",
        "*  >>(right shift)\n",
        "*  & ( bitwise AND)\n",
        "*  | (bitwise OR)\n",
        "*  ^ (bitwise XOR)\n",
        "*  ~ ( bitwise invert)\n"
      ]
    },
    {
      "cell_type": "markdown",
      "metadata": {
        "id": "yaVSdPTCwILt",
        "colab_type": "text"
      },
      "source": [
        "## Escape Sequences – Non graphic characters\n",
        "‘\\n’, ‘\\t’, ‘\\\\’, ‘\\’’ – examples of escape sequences\n"
      ]
    },
    {
      "cell_type": "code",
      "metadata": {
        "id": "1KgBgyJ5wILv",
        "colab_type": "code",
        "outputId": "42dd38a4-8ec8-4658-b283-27529563fd4c",
        "colab": {}
      },
      "source": [
        "print(\"this is line 1\\nthis is second line\\n\")\n",
        "print(r\"This is line 1 \\n This is line 2\")"
      ],
      "execution_count": 0,
      "outputs": [
        {
          "output_type": "stream",
          "text": [
            "this is line 1\n",
            "this is second line\n",
            "\n",
            "This is line 1 \\n This is line 2\n"
          ],
          "name": "stdout"
        }
      ]
    },
    {
      "cell_type": "markdown",
      "metadata": {
        "id": "oCWgOlOcwIL0",
        "colab_type": "text"
      },
      "source": [
        "## Strings are Arrays\n",
        "\n",
        "Like many other popular programming languages, strings in Python are **arrays of bytes** representing unicode characters.\n",
        "\n",
        "However, Python ***does not have a character data type***, a single character is simply a string with a length of 1.\n",
        "\n",
        "Square brackets can be used to access elements of the string."
      ]
    },
    {
      "cell_type": "code",
      "metadata": {
        "id": "vi4w8PQjwIL2",
        "colab_type": "code",
        "outputId": "3f988548-a362-49a8-a82d-effed5162081",
        "colab": {}
      },
      "source": [
        "#accessing unit length string\n",
        "a = \"Hello, World!\"\n",
        "print(a[1])\n",
        "\n",
        "#getting letters between postion 2 and 5 (5 not included)\n",
        "b = \"Hello, World!\"\n",
        "print(b[2:5])\n",
        "\n",
        "#Get the characters from position 5 to position 1, starting the count from the end of the string\n",
        "b = \"Hello, World!\"\n",
        "print(b[-5:-2])\n",
        "\n",
        "#getting the length of the string\n",
        "b = \"Hello, World!\"\n",
        "print(len(b))\n",
        "\n"
      ],
      "execution_count": 0,
      "outputs": [
        {
          "output_type": "stream",
          "text": [
            "e\n",
            "llo\n",
            "orl\n",
            "13\n"
          ],
          "name": "stdout"
        }
      ]
    },
    {
      "cell_type": "markdown",
      "metadata": {
        "id": "_163wwFKwIL7",
        "colab_type": "text"
      },
      "source": [
        "## Built-in string methods"
      ]
    },
    {
      "cell_type": "code",
      "metadata": {
        "id": "lT6V1OokwIL9",
        "colab_type": "code",
        "outputId": "44c15953-2af8-4579-ee78-f073c4e5678d",
        "colab": {}
      },
      "source": [
        "#removes whitespaces at the beginning or end\n",
        "a = \"   Hello, World! \"\n",
        "print(a.strip())\n",
        "\n",
        "#converting to lowercase\n",
        "a = \"Hello, World!\"\n",
        "print(a.lower())\n",
        "\n",
        "#converting to uppercase\n",
        "a = \"Hello, World!\"\n",
        "print(a.upper())\n",
        "\n",
        "#replacing a character with another\n",
        "a = \"Hello, World!\"\n",
        "print(a.replace(\"H\", \"J\"))\n",
        "\n",
        "#splits the string into substrings if it finds instances of the seperator - returns a list\n",
        "a = \"Hello, World!\"\n",
        "print(a.split(\",\"))\n",
        "\n",
        "#checking a string\n",
        "if \"Hello\" in a:\n",
        "    print(\"Hello is present in given string\\n\")\n",
        "\n",
        "#concatenating a string\n",
        "a = \"Hello\"\n",
        "b = \"World\"\n",
        "c = a + b\n",
        "print(c)\n",
        "\n",
        "#formating a string\n",
        "a=1\n",
        "b=2\n",
        "txt = \"{0}+{1}={2}\".format(a,b,a+b)\n",
        "print(txt)\n",
        "print(\"My name is {0} and I am from {1}\".format(\"Me\",  \"Chennai\"))\n",
        "\n"
      ],
      "execution_count": 0,
      "outputs": [
        {
          "output_type": "stream",
          "text": [
            "Hello, World!\n",
            "hello, world!\n",
            "HELLO, WORLD!\n",
            "Jello, World!\n",
            "['Hello', ' World!']\n",
            "Hello is present in given string\n",
            "\n",
            "HelloWorld\n",
            "1+2=3\n",
            "My name is Me and I am from Chennai\n"
          ],
          "name": "stdout"
        }
      ]
    },
    {
      "cell_type": "markdown",
      "metadata": {
        "id": "JL8YHILzwIMC",
        "colab_type": "text"
      },
      "source": [
        "## Other string methods\n",
        "\n",
        "| Method    |      Description  |\n",
        "|----------|:-------------:|\n",
        "|capitalize()\t|Converts the first character to upper case|\n",
        "|casefold()\t|Converts string into lower case|\n",
        "|center()\t|Returns a centered string|\n",
        "|count()\t|Returns the number of times a specified value occurs in a string|\n",
        "|encode()\t|Returns an encoded version of the string|\n",
        "|endswith()\t|Returns true if the string ends with the specified value|\n",
        "|expandtabs()\t|Sets the tab size of the string|\n",
        "|find()\t|Searches the string for a specified value and returns the position of where it was found|\n",
        "|format()\t|Formats specified values in a string|\n",
        "|format_map()\t|Formats specified values in a string|\n",
        "|index()\t|Searches the string for a specified value and returns the position of where it was found|isalnum()\tReturns True if all characters in the string are alphanumeric|\n",
        "|isalpha()\t|Returns True if all characters in the string are in the alphabet|\n",
        "|isdecimal()\t|Returns True if all characters in the string are decimals|\n",
        "|isdigit()\t|Returns True if all characters in the string are digits|\n",
        "|isidentifier()\t|Returns True if the string is an identifier|\n",
        "|islower()\t|Returns True if all characters in the string are lower case|\n",
        "|isnumeric()\t|Returns True if all characters in the string are numeric|\n",
        "|isprintable()\t|Returns True if all characters in the string are printable|\n",
        "|isspace()\t|Returns True if all characters in the string are whitespaces|\n",
        "|istitle()\t|Returns True if the string follows the rules of a title|\n",
        "|isupper()\t|Returns True if all characters in the string are upper case|\n",
        "|join()\t|Joins the elements of an iterable to the end of the string|\n",
        "|ljust()\t|Returns a left justified version of the string|\n",
        "|lower()\t|Converts a string into lower case|\n",
        "|lstrip()\t|Returns a left trim version of the string|\n",
        "|maketrans()\t|Returns a translation table to be used in translations|\n",
        "|partition()\t|Returns a tuple where the string is parted into three parts|\n",
        "|replace()\t|Returns a string where a specified value is replaced with a specified value|\n",
        "|rfind()\t|Searches the string for a specified value and returns the last position of where it was found|\n",
        "|rindex()\t|Searches the string for a specified value and returns the last position of where it was found|\n",
        "|rjust()\t|Returns a right justified version of the string|\n",
        "|rpartition()\t|Returns a tuple where the string is parted into three parts|\n",
        "|rsplit()\t|Splits the string at the specified separator, and returns a list|\n",
        "|rstrip()\t|Returns a right trim version of the string|\n",
        "|split()\t|Splits the string at the specified separator, and returns a list|\n",
        "|splitlines()\t|Splits the string at line breaks and returns a list|\n",
        "|startswith()\t|Returns true if the string starts with the specified value|\n",
        "|strip()\t|Returns a trimmed version of the string|\n",
        "|swapcase()\t|Swaps cases, lower case becomes upper case and vice versa|\n",
        "|title()\t|Converts the first character of each word to upper case|\n",
        "|translate()\t|Returns a translated string|\n",
        "|upper()\t|Converts a string into upper case|\n",
        "|zfill()\t|Fills the string with a specified number of 0 values at the beginning|"
      ]
    },
    {
      "cell_type": "markdown",
      "metadata": {
        "id": "Ls0z0n2wwIME",
        "colab_type": "text"
      },
      "source": [
        "## Boolean datatype"
      ]
    },
    {
      "cell_type": "code",
      "metadata": {
        "id": "v9wXs1a0wIMG",
        "colab_type": "code",
        "outputId": "f1b9a490-1be6-44e8-9c90-1c5c15d9c14d",
        "colab": {}
      },
      "source": [
        "print(10 > 9)\n",
        "\n",
        "\"\"\"\n",
        "\n",
        "Almost any value is evaluated to True if it has some sort of content.\n",
        "\n",
        "Any string is True, except empty strings.\n",
        "\n",
        "Any number is True, except 0.\n",
        "\n",
        "Any list, tuple, set, and dictionary are True, except empty ones.\n",
        "\n",
        "\"\"\"\n",
        "x = \"Hello\"\n",
        "y = 15\n",
        "z=\"\"\n",
        "print(bool(x))\n",
        "print(bool(y))\n",
        "print(bool(z))\n"
      ],
      "execution_count": 0,
      "outputs": [
        {
          "output_type": "stream",
          "text": [
            "True\n",
            "True\n",
            "True\n",
            "False\n"
          ],
          "name": "stdout"
        }
      ]
    },
    {
      "cell_type": "markdown",
      "metadata": {
        "id": "jP7PzjMuwIMM",
        "colab_type": "text"
      },
      "source": [
        "## Python Collections\n",
        "\n",
        "There are four collection data types in the Python programming language:\n",
        "\n",
        "**List** is a collection which is ordered and changeable. Allows duplicate members.\n",
        "\n",
        "**Tuple** is a collection which is ordered and unchangeable. Allows duplicate members.\n",
        "\n",
        "**Set** is a collection which is unordered and unindexed. No duplicate members.\n",
        "\n",
        "**Dictionary** is a collection which is unordered, changeable and indexed. No duplicate members."
      ]
    },
    {
      "cell_type": "code",
      "metadata": {
        "id": "2nKY4CrDwIMN",
        "colab_type": "code",
        "outputId": "fb316387-235d-4ed9-be64-c2790b5f7e3a",
        "colab": {}
      },
      "source": [
        "#--- lISTS ----#\n",
        "\n",
        "\n",
        "a=[\"hello\",\"welcome\",\"to\",\"python\"]\n",
        "print(type(a))\n",
        "\n",
        "#getting the first element\n",
        "print(a[0])\n",
        "\n",
        "#selecting elements between 1 and 3\n",
        "print(a[1:3])\n",
        "\n",
        "#taking the first two elements\n",
        "print(a[:2])\n",
        "\n",
        "#taking the last two elements\n",
        "print(a[2:])\n",
        "\n",
        "#adding items list\n",
        "a.append(\"workshop\")\n",
        "print(a)\n",
        "\n",
        "#changing element values\n",
        "a[0]=\"Hey\"\n",
        "print(a)\n",
        "\n",
        "#removing an element\n",
        "a.remove(\"Hey\")\n",
        "print(a)"
      ],
      "execution_count": 0,
      "outputs": [
        {
          "output_type": "stream",
          "text": [
            "<class 'list'>\n",
            "hello\n",
            "['welcome', 'to']\n",
            "['hello', 'welcome']\n",
            "['to', 'python']\n",
            "['hello', 'welcome', 'to', 'python', 'workshop']\n",
            "['Hey', 'welcome', 'to', 'python', 'workshop']\n",
            "['welcome', 'to', 'python', 'workshop']\n"
          ],
          "name": "stdout"
        }
      ]
    },
    {
      "cell_type": "code",
      "metadata": {
        "id": "K9VQrpR-wIMT",
        "colab_type": "code",
        "outputId": "d44e1ca2-2a0a-499d-e02c-1ed3367e769d",
        "colab": {}
      },
      "source": [
        "#--- Tuple ---#\n",
        "\n",
        "\n",
        "thistuple = (\"apple\", \"banana\", \"cherry\")\n",
        "print(thistuple)\n",
        "\n",
        "#assignment is not allowed\n",
        "thistuple[0]=\"orange\"\n",
        "\n",
        "## Tuples are IMMUTABLE"
      ],
      "execution_count": 0,
      "outputs": [
        {
          "output_type": "stream",
          "text": [
            "('apple', 'banana', 'cherry')\n"
          ],
          "name": "stdout"
        },
        {
          "output_type": "error",
          "ename": "TypeError",
          "evalue": "'tuple' object does not support item assignment",
          "traceback": [
            "\u001b[1;31m---------------------------------------------------------------------------\u001b[0m",
            "\u001b[1;31mTypeError\u001b[0m                                 Traceback (most recent call last)",
            "\u001b[1;32m<ipython-input-21-e238f9eaa7e2>\u001b[0m in \u001b[0;36m<module>\u001b[1;34m\u001b[0m\n\u001b[0;32m      6\u001b[0m \u001b[1;33m\u001b[0m\u001b[0m\n\u001b[0;32m      7\u001b[0m \u001b[1;31m#assignment is not allowed\u001b[0m\u001b[1;33m\u001b[0m\u001b[1;33m\u001b[0m\u001b[1;33m\u001b[0m\u001b[0m\n\u001b[1;32m----> 8\u001b[1;33m \u001b[0mthistuple\u001b[0m\u001b[1;33m[\u001b[0m\u001b[1;36m0\u001b[0m\u001b[1;33m]\u001b[0m\u001b[1;33m=\u001b[0m\u001b[1;34m\"orange\"\u001b[0m\u001b[1;33m\u001b[0m\u001b[1;33m\u001b[0m\u001b[0m\n\u001b[0m\u001b[0;32m      9\u001b[0m \u001b[1;33m\u001b[0m\u001b[0m\n\u001b[0;32m     10\u001b[0m \u001b[1;31m## Tuples are IMMUTABLE\u001b[0m\u001b[1;33m\u001b[0m\u001b[1;33m\u001b[0m\u001b[1;33m\u001b[0m\u001b[0m\n",
            "\u001b[1;31mTypeError\u001b[0m: 'tuple' object does not support item assignment"
          ]
        }
      ]
    },
    {
      "cell_type": "code",
      "metadata": {
        "id": "CuI2EsqjwIMY",
        "colab_type": "code",
        "colab": {}
      },
      "source": [
        "#--- Dictionary ---#\n",
        "\n",
        "\n",
        "#creating dictionary\n",
        "thisdict = {\n",
        "  \"brand\": \"Ford\",\n",
        "  \"model\": \"Mustang\",\n",
        "  \"year\": 1964\n",
        "}\n",
        "print(thisdict)\n",
        "\n",
        "#accessing values using keys\n",
        "print(thisdict[\"brand\"])\n",
        "\n",
        "#changing values\n",
        "thisdict[\"year\"]=2020\n",
        "print(thisdict)\n",
        "\n"
      ],
      "execution_count": 0,
      "outputs": []
    },
    {
      "cell_type": "code",
      "metadata": {
        "id": "d4BM9xONwIMe",
        "colab_type": "code",
        "colab": {}
      },
      "source": [
        "#nested dictionaries\n",
        "child1 = {\n",
        "  \"name\" : \"Emil\",\n",
        "  \"year\" : 2004\n",
        "}\n",
        "child2 = {\n",
        "  \"name\" : \"Tobias\",\n",
        "  \"year\" : 2007\n",
        "}\n",
        "child3 = {\n",
        "  \"name\" : \"Linus\",\n",
        "  \"year\" : 2011\n",
        "}\n",
        "\n",
        "myfamily = {\n",
        "  \"child1\" : child1,\n",
        "  \"child2\" : child2,\n",
        "  \"child3\" : child3\n",
        "}\n",
        "\n",
        "print(myfamily[\"child1\"])\n",
        "\n",
        "print(myfamily[\"child1\"][\"name\"])"
      ],
      "execution_count": 0,
      "outputs": []
    },
    {
      "cell_type": "code",
      "metadata": {
        "id": "4iCupnS-wIMq",
        "colab_type": "code",
        "colab": {}
      },
      "source": [
        "#creating dictionaries from lists\n",
        "a=[\"name\",\"age\"]\n",
        "b=[\"allen\",\"20\"]\n",
        "c=dict(zip(a,b))\n",
        "print(c)"
      ],
      "execution_count": 0,
      "outputs": []
    },
    {
      "cell_type": "code",
      "metadata": {
        "id": "LZEcMn-SwIMy",
        "colab_type": "code",
        "colab": {}
      },
      "source": [
        "#--- Sets ---#\n",
        "\n",
        "\n",
        "Metros = set( [\"Delhi\", \"Chennai\", \"Mumbai\", \"Kolkata\"])\n",
        "bigCities = set([\"Delhi\", \"Chennai\", \"Mumbai\", \"Kolkata\", \"Pune\", \"SBC\"])\n",
        "\n",
        "print(Metros.issubset(bigCities))\n",
        "print(Metros.issuperset(bigCities))\n",
        "\n",
        "print( Metros & bigCities)    #Intersection\n",
        "print( Metros | bigCities)    #Union\n"
      ],
      "execution_count": 0,
      "outputs": []
    },
    {
      "cell_type": "markdown",
      "metadata": {
        "id": "9PegFmB2wIM3",
        "colab_type": "text"
      },
      "source": [
        "## Functions \n"
      ]
    },
    {
      "cell_type": "code",
      "metadata": {
        "id": "pUKAnyDUwIM4",
        "colab_type": "code",
        "colab": {}
      },
      "source": [
        "# 1) Without return Type with arguments\n",
        "\n",
        "def add( a, b):\n",
        "    print( a + b )\n",
        "\n",
        "def sub( a, b):\n",
        "    print( a - b)\n",
        "\n",
        "add(4,5)\n",
        "sub(4,9)\n"
      ],
      "execution_count": 0,
      "outputs": []
    },
    {
      "cell_type": "code",
      "metadata": {
        "id": "lHgWRd5VwIM9",
        "colab_type": "code",
        "colab": {}
      },
      "source": [
        "# 2)Functions with return Type\n",
        "def add( a, b):\n",
        "    return a + b\n",
        "\n",
        "C = add( 2, 3)\n",
        "print(C)\n"
      ],
      "execution_count": 0,
      "outputs": []
    },
    {
      "cell_type": "markdown",
      "metadata": {
        "id": "GKLFVMXHwIND",
        "colab_type": "text"
      },
      "source": [
        "## Default Arguments"
      ]
    },
    {
      "cell_type": "code",
      "metadata": {
        "id": "RM83y1AowINE",
        "colab_type": "code",
        "colab": {}
      },
      "source": [
        "def simpleInterest( p, n, r = 7.0):\n",
        "    return p * n * r\n",
        "\n",
        "print(simpleInterest( 1000, 3, 5.0)) #Valid\n",
        "print(simpleInterest( 1000, 3)) #Still valid\n",
        "print(simpleInterest( 1000, 5.0)) #Invalid only 2 params. Takes n = 5\n"
      ],
      "execution_count": 0,
      "outputs": []
    },
    {
      "cell_type": "markdown",
      "metadata": {
        "id": "AdSiPRt2wINJ",
        "colab_type": "text"
      },
      "source": [
        "## Python ifelse statements\n",
        "\n",
        "***syntax***\n",
        "\n",
        "```\n",
        "if <condition> :\n",
        "    <execute your commands>\n",
        "elif <condition> :\n",
        "    <execute your commands>\n",
        "else:\n",
        "    <execute your commands>\n",
        "```\n",
        "\n",
        "***Python relies on indentation (whitespace at the beginning of a line) to define scope in the code.***\n",
        "\n"
      ]
    },
    {
      "cell_type": "code",
      "metadata": {
        "id": "KRMsTbguwINL",
        "colab_type": "code",
        "colab": {}
      },
      "source": [
        "#example\n",
        "\n",
        "a=10\n",
        "b=20\n",
        "\n",
        "if a>b:\n",
        "    print(\"a greater than b\")\n",
        "elif a==b:\n",
        "    print(\"a is equal to b\")\n",
        "else:\n",
        "    print(\"a is lesser than b\")\n"
      ],
      "execution_count": 0,
      "outputs": []
    },
    {
      "cell_type": "markdown",
      "metadata": {
        "id": "mmyQACGIwINR",
        "colab_type": "text"
      },
      "source": [
        "## While loop\n",
        "\n",
        "***syntax***\n",
        "```\n",
        "while <condition>:\n",
        "    <execute commands>\n",
        "```"
      ]
    },
    {
      "cell_type": "code",
      "metadata": {
        "id": "SbYIIphHwINS",
        "colab_type": "code",
        "colab": {}
      },
      "source": [
        "#example\n",
        "i = 1\n",
        "while i < 6:\n",
        "  print(i)\n",
        "  i += 1"
      ],
      "execution_count": 0,
      "outputs": []
    },
    {
      "cell_type": "markdown",
      "metadata": {
        "id": "NF_s27s5wINX",
        "colab_type": "text"
      },
      "source": [
        "## For loops\n",
        "***syntax***\n",
        "```\n",
        "for i in <condition>:\n",
        "    <execute commands>\n",
        "```"
      ]
    },
    {
      "cell_type": "code",
      "metadata": {
        "id": "FCP_byZkwINZ",
        "colab_type": "code",
        "colab": {}
      },
      "source": [
        "#example\n",
        "fruits = [\"apple\", \"banana\", \"cherry\"]\n",
        "for x in fruits:\n",
        "  print(x)"
      ],
      "execution_count": 0,
      "outputs": []
    },
    {
      "cell_type": "markdown",
      "metadata": {
        "id": "m132qA2swINe",
        "colab_type": "text"
      },
      "source": [
        "## Recursion"
      ]
    },
    {
      "cell_type": "code",
      "metadata": {
        "id": "_7K2oKLBwINg",
        "colab_type": "code",
        "colab": {}
      },
      "source": [
        "def factorial( n):\n",
        "    if n == 1:\n",
        "        return 1\n",
        "    else :\n",
        "        return n * factorial(n-1)\n",
        "\n",
        "print(factorial(7))\n"
      ],
      "execution_count": 0,
      "outputs": []
    },
    {
      "cell_type": "markdown",
      "metadata": {
        "id": "JMrRzzo5wINn",
        "colab_type": "text"
      },
      "source": [
        "## Global and Local Variables"
      ]
    },
    {
      "cell_type": "code",
      "metadata": {
        "id": "_AAlHRCYwINp",
        "colab_type": "code",
        "colab": {}
      },
      "source": [
        "# Global\n",
        "x = 34\n",
        "print(x)\n",
        "def change():\n",
        "    global x\n",
        "    x = 50\n",
        "    print(x)\n",
        "change() #Function call\n",
        "print(x)\n"
      ],
      "execution_count": 0,
      "outputs": []
    },
    {
      "cell_type": "code",
      "metadata": {
        "id": "W-tCcZhqwINu",
        "colab_type": "code",
        "colab": {}
      },
      "source": [
        "# Local\n",
        "x = 34\n",
        "print (x)\n",
        "def change():\n",
        "    x = 50\n",
        "    print(x)\n",
        "change() #function call\n",
        "print(x)\n"
      ],
      "execution_count": 0,
      "outputs": []
    },
    {
      "cell_type": "markdown",
      "metadata": {
        "id": "9P6OEE-IwIN1",
        "colab_type": "text"
      },
      "source": [
        "## Functions in python\n",
        "\n",
        "***syntax***\n",
        "\n",
        "```\n",
        "def <function_name>(<function-parameters>):\n",
        "    <execute commands>\n",
        "    \n",
        "return <returning value>\n",
        "```"
      ]
    },
    {
      "cell_type": "code",
      "metadata": {
        "id": "loHP6hFDwIN3",
        "colab_type": "code",
        "colab": {}
      },
      "source": [
        "def print_name(firstname,lastname=\"Stone\"):\n",
        "    print(firstname+lastname)\n",
        "print_name(\"Alan\",\"Walker\")\n",
        "print_name(\"Alan\")"
      ],
      "execution_count": 0,
      "outputs": []
    },
    {
      "cell_type": "markdown",
      "metadata": {
        "id": "bAo1qhqSwIN7",
        "colab_type": "text"
      },
      "source": [
        "## Classes in Python\n",
        "\n",
        "A Class is like an object constructor, or a \"blueprint\" for creating objects.\n",
        "\n",
        "**defining a class**\n",
        "```\n",
        "class <class_name>:\n",
        "    <class-variables>\n",
        "    <init functions if any>\n",
        "    <functions if any>\n",
        "    \n",
        "```\n",
        "\n",
        "**defining an object of a class**\n",
        " ```\n",
        " obj1=<class_name>()\n",
        "```\n",
        "\n",
        "**init function**\n",
        "All classes have a function called __init__(), which is always executed when the class is being initiated.\n",
        "\n"
      ]
    },
    {
      "cell_type": "code",
      "metadata": {
        "id": "FWehvkCSwIN9",
        "colab_type": "code",
        "colab": {}
      },
      "source": [
        "class Person:\n",
        "  def __init__(self, name, age):\n",
        "    self.name = name\n",
        "    self.age = age\n",
        "\n",
        "p1 = Person(\"John\", 36)\n",
        "\n",
        "print(p1.name)\n",
        "print(p1.age)"
      ],
      "execution_count": 0,
      "outputs": []
    },
    {
      "cell_type": "markdown",
      "metadata": {
        "id": "X8ogVusVwIOE",
        "colab_type": "text"
      },
      "source": [
        "## Exceptions\n",
        "\n",
        "Exceptions occur everywhere even here too – \n",
        "* Opening a file which doesn’t exist\n",
        "* Dividing a number by 0\n"
      ]
    },
    {
      "cell_type": "code",
      "metadata": {
        "id": "eJJcqIutwIOF",
        "colab_type": "code",
        "colab": {}
      },
      "source": [
        "print(1/0)\n",
        "# We get ZeroDivisionError which is also an ArithmeticError"
      ],
      "execution_count": 0,
      "outputs": []
    },
    {
      "cell_type": "code",
      "metadata": {
        "id": "pxLx0Uw7wIOK",
        "colab_type": "code",
        "colab": {}
      },
      "source": [
        "try:\n",
        "    print(1/0)\n",
        "except ZeroDivisionError:\n",
        "    print(\"Division by 0 is not possible\")\n"
      ],
      "execution_count": 0,
      "outputs": []
    },
    {
      "cell_type": "code",
      "metadata": {
        "id": "sFH2Uqm2wIOP",
        "colab_type": "code",
        "colab": {}
      },
      "source": [
        "f = open(‘filename.txt’)"
      ],
      "execution_count": 0,
      "outputs": []
    },
    {
      "cell_type": "code",
      "metadata": {
        "id": "ds5QAW6ewIOT",
        "colab_type": "code",
        "colab": {}
      },
      "source": [
        "try:\n",
        "    f = open('filename.txt')\n",
        "except FileNotFoundError:\n",
        "    print(‘File not found!!!’)\n"
      ],
      "execution_count": 0,
      "outputs": []
    },
    {
      "cell_type": "markdown",
      "metadata": {
        "id": "Z-T92iiQwIOX",
        "colab_type": "text"
      },
      "source": [
        "## The Best part of Python ? "
      ]
    },
    {
      "cell_type": "markdown",
      "metadata": {
        "id": "t89FQ_oswIOa",
        "colab_type": "text"
      },
      "source": [
        "### Libraries \n",
        "<img src=\"https://github.com/MukundVarmaT/PythonMLworkshop/blob/master/Python/img/Picture4.jpg?raw=1\" alt=\"drawing\"/>\n",
        "<img src=\"https://github.com/MukundVarmaT/PythonMLworkshop/blob/master/Python/img/Picture5.jpg?raw=1\" alt=\"drawing\" width=400px/>"
      ]
    },
    {
      "cell_type": "code",
      "metadata": {
        "id": "jsG2YBIhwIOc",
        "colab_type": "code",
        "colab": {}
      },
      "source": [
        ""
      ],
      "execution_count": 0,
      "outputs": []
    },
    {
      "cell_type": "code",
      "metadata": {
        "id": "S-Wd4qnUwIOg",
        "colab_type": "code",
        "colab": {}
      },
      "source": [
        ""
      ],
      "execution_count": 0,
      "outputs": []
    }
  ]
}